{
 "cells": [
  {
   "cell_type": "code",
   "execution_count": 1,
   "id": "e8831986",
   "metadata": {},
   "outputs": [],
   "source": [
    "import cv2"
   ]
  },
  {
   "cell_type": "markdown",
   "id": "44eb10a0",
   "metadata": {},
   "source": [
    "Read and display image"
   ]
  },
  {
   "cell_type": "code",
   "execution_count": 2,
   "id": "56bc33c9",
   "metadata": {},
   "outputs": [],
   "source": [
    "image = cv2.imread(r\"C:\\Users\\somaa\\Desktop\\DIP week 1.jpg\")"
   ]
  },
  {
   "cell_type": "code",
   "execution_count": 3,
   "id": "1a774fea",
   "metadata": {},
   "outputs": [],
   "source": [
    "cv2.imshow(\"image\",image) \n",
    "cv2.waitKey(0) \n",
    "cv2.destroyAllWindows()"
   ]
  },
  {
   "cell_type": "markdown",
   "id": "d31b6eeb",
   "metadata": {},
   "source": [
    "Resize image"
   ]
  },
  {
   "cell_type": "code",
   "execution_count": 5,
   "id": "0e455133",
   "metadata": {},
   "outputs": [
    {
     "name": "stdout",
     "output_type": "stream",
     "text": [
      "Original Dimensions :  (1076, 900, 3)\n"
     ]
    }
   ],
   "source": [
    "print('Original Dimensions : ',image.shape)"
   ]
  },
  {
   "cell_type": "code",
   "execution_count": 5,
   "id": "6e534d24",
   "metadata": {},
   "outputs": [],
   "source": [
    "scale_percent = 50 \n",
    "width = int(image.shape[1] * scale_percent / 100)\n",
    "height = int(image.shape[0] * scale_percent / 100)\n",
    "dim = (width, height)"
   ]
  },
  {
   "cell_type": "code",
   "execution_count": 6,
   "id": "18f20bc7",
   "metadata": {},
   "outputs": [],
   "source": [
    "resized_image = cv2.resize(image, dim, interpolation = cv2.INTER_AREA)\n"
   ]
  },
  {
   "cell_type": "code",
   "execution_count": 8,
   "id": "3ff6742b",
   "metadata": {},
   "outputs": [
    {
     "name": "stdout",
     "output_type": "stream",
     "text": [
      "Resized Dimensions :  (538, 450, 3)\n"
     ]
    }
   ],
   "source": [
    "print('Resized Dimensions : ',resized_image.shape)"
   ]
  },
  {
   "cell_type": "code",
   "execution_count": 9,
   "id": "e8bdc921",
   "metadata": {},
   "outputs": [],
   "source": [
    "cv2.imshow(\"Resized image\", resized_image)\n",
    "cv2.waitKey(0)\n",
    "cv2.destroyAllWindows()"
   ]
  },
  {
   "cell_type": "markdown",
   "id": "ac9b8956",
   "metadata": {},
   "source": [
    "convert color image to gray-scale image"
   ]
  },
  {
   "cell_type": "code",
   "execution_count": 10,
   "id": "d2317534",
   "metadata": {},
   "outputs": [],
   "source": [
    "cv2.imshow('Original',resized_image)\n",
    "grayscale = cv2.cvtColor(resized_image, cv2.COLOR_BGR2GRAY)\n",
    "cv2.imshow('Grayscale', grayscale)\n",
    "cv2.waitKey(0)\n",
    "cv2.destroyAllWindows()"
   ]
  },
  {
   "cell_type": "markdown",
   "id": "1874625e",
   "metadata": {},
   "source": [
    "convert color image to black&white image"
   ]
  },
  {
   "cell_type": "code",
   "execution_count": 11,
   "id": "522ec5b9",
   "metadata": {},
   "outputs": [],
   "source": [
    "#Convert color image to gray scale image\n",
    "grayscale = cv2.cvtColor(resized_image, cv2.COLOR_BGR2GRAY)\n",
    "#convert gray scale image to binary image\n",
    "(thresh, Binary_image) = cv2.threshold(grayscale, 125, 255, cv2.THRESH_BINARY)\n"
   ]
  },
  {
   "cell_type": "code",
   "execution_count": 12,
   "id": "f5103a60",
   "metadata": {},
   "outputs": [],
   "source": [
    "cv2.imshow('original',resized_image)\n",
    "cv2.imshow('Binary',Binary_image)\n",
    "cv2.waitKey(0)\n",
    "cv2.destroyAllWindows()"
   ]
  },
  {
   "cell_type": "markdown",
   "id": "74fc1b76",
   "metadata": {},
   "source": [
    "Draw image profile"
   ]
  },
  {
   "cell_type": "code",
   "execution_count": 13,
   "id": "92648eea",
   "metadata": {},
   "outputs": [
    {
     "name": "stdout",
     "output_type": "stream",
     "text": [
      "The shape of the image:  (1076, 900, 3)\n",
      "The Size of the image:   2905200\n",
      "Image height: 1076\n",
      "Image Width: 900\n",
      "Image channels: 3\n"
     ]
    }
   ],
   "source": [
    "print(\"The shape of the image: \",image.shape)\n",
    "print(\"The Size of the image:  \",image.size)\n",
    "height, width, channels = image.shape\n",
    "print('Image height:',height)\n",
    "print('Image Width:', width)\n",
    "print('Image channels:', channels)"
   ]
  },
  {
   "cell_type": "markdown",
   "id": "78ab0204",
   "metadata": {},
   "source": [
    "RGB profile of the Image"
   ]
  },
  {
   "cell_type": "code",
   "execution_count": 14,
   "id": "a5e92aaa",
   "metadata": {},
   "outputs": [
    {
     "name": "stdout",
     "output_type": "stream",
     "text": [
      "Max RGB values: [255 255 255]\n",
      "Min RGB values: [1 6 0]\n"
     ]
    }
   ],
   "source": [
    "import numpy as np\n",
    "max_rgb_values = np.max(image, axis=(0, 1))\n",
    "min_rgb_values = np.min(image, axis=(0, 1))\n",
    "\n",
    "print(\"Max RGB values:\", max_rgb_values)\n",
    "print(\"Min RGB values:\", min_rgb_values)\n"
   ]
  },
  {
   "cell_type": "markdown",
   "id": "86633810",
   "metadata": {},
   "source": [
    "Seperate color image in blue,green,red"
   ]
  },
  {
   "cell_type": "code",
   "execution_count": 15,
   "id": "e7047b57",
   "metadata": {},
   "outputs": [],
   "source": [
    "b,g,r = cv2.split(resized_image)\n",
    "k = np.zeros_like(b)\n",
    "b = cv2.merge([b,k,k])\n",
    "g = cv2.merge([k,g,k])\n",
    "r = cv2.merge([k,k,r])"
   ]
  },
  {
   "cell_type": "code",
   "execution_count": 16,
   "id": "d289af44",
   "metadata": {},
   "outputs": [],
   "source": [
    "cv2.imshow('Orginal',resized_image)\n",
    "cv2.imshow('b',b)\n",
    "cv2.imshow('g',g)\n",
    "cv2.imshow('r',r)\n",
    "cv2.waitKey(0)\n",
    "cv2.destroyAllWindows()"
   ]
  },
  {
   "cell_type": "markdown",
   "id": "5a86ce08",
   "metadata": {},
   "source": [
    "Color image using RGB planes"
   ]
  },
  {
   "cell_type": "code",
   "execution_count": 9,
   "id": "08b2d568",
   "metadata": {},
   "outputs": [],
   "source": [
    "#created rgb palnes in previous step\n",
    "#we need to merge thrm to create color image\n",
    "blue,green,red = cv2.split(resized_image)\n",
    "newRGBImage = cv2.merge((blue,green,red))\n"
   ]
  },
  {
   "cell_type": "code",
   "execution_count": 10,
   "id": "5ad772a0",
   "metadata": {},
   "outputs": [],
   "source": [
    "cv2.imshow('Color image',newRGBImage)\n",
    "cv2.waitKey(0)\n",
    "cv2.destroyAllWindows()"
   ]
  },
  {
   "cell_type": "markdown",
   "id": "f43e9f73",
   "metadata": {},
   "source": [
    "Flow, control and LOOP in Python"
   ]
  },
  {
   "cell_type": "code",
   "execution_count": 22,
   "id": "e19135b3",
   "metadata": {},
   "outputs": [
    {
     "name": "stdout",
     "output_type": "stream",
     "text": [
      "addition is 20\n"
     ]
    }
   ],
   "source": [
    "#Flow statement\n",
    "a = 10;b = 10;c = a+b\n",
    "print(\"addition is\",c)"
   ]
  },
  {
   "cell_type": "code",
   "execution_count": 23,
   "id": "cd62a304",
   "metadata": {},
   "outputs": [
    {
     "name": "stdout",
     "output_type": "stream",
     "text": [
      "a is equal to b\n"
     ]
    }
   ],
   "source": [
    "#If statement\n",
    "a = 10;b = 10\n",
    "if a>b:\n",
    "    print(\"a greater than b\")\n",
    "elif a<b:\n",
    "    print(\"a is less than b\")\n",
    "else:\n",
    "    print(\"a is equal to b\")"
   ]
  },
  {
   "cell_type": "code",
   "execution_count": 24,
   "id": "a6beb624",
   "metadata": {},
   "outputs": [
    {
     "name": "stdout",
     "output_type": "stream",
     "text": [
      "a less than b\n"
     ]
    }
   ],
   "source": [
    "# Nested if statement\n",
    "a = 10;b = 90\n",
    "if a!=b:\n",
    "    if a>b:\n",
    "        print(\"a greater than b\")\n",
    "    else:\n",
    "        print(\"a less than b\")\n",
    "else:\n",
    "    print(\"a equal to b\")"
   ]
  },
  {
   "cell_type": "code",
   "execution_count": 34,
   "id": "ed193740",
   "metadata": {},
   "outputs": [
    {
     "name": "stdout",
     "output_type": "stream",
     "text": [
      "1,2,3,4,"
     ]
    }
   ],
   "source": [
    "# for loop\n",
    "list = [1,2,3,4]\n",
    "for _ in list:\n",
    "    print(_,sep = \"\",end = \",\")"
   ]
  },
  {
   "cell_type": "code",
   "execution_count": 33,
   "id": "4f670ff4",
   "metadata": {},
   "outputs": [
    {
     "name": "stdout",
     "output_type": "stream",
     "text": [
      "hello,hello,hello,hello,hello,"
     ]
    }
   ],
   "source": [
    "#while loop\n",
    "n = 0\n",
    "while n<5:\n",
    "    print(\"hello\",end=\",\")\n",
    "    n+=1"
   ]
  },
  {
   "cell_type": "markdown",
   "id": "54534037",
   "metadata": {},
   "source": [
    "2-D data in Image file"
   ]
  },
  {
   "cell_type": "code",
   "execution_count": 37,
   "id": "e8072c1d",
   "metadata": {},
   "outputs": [],
   "source": [
    "hist = cv2.calcHist([resized_image],[0],None,[256],[0,256])"
   ]
  },
  {
   "cell_type": "code",
   "execution_count": 39,
   "id": "cee4d6f6",
   "metadata": {},
   "outputs": [
    {
     "data": {
      "image/png": "[encoded data removed]",
      "text/plain": [
       "<Figure size 640x480 with 1 Axes>"
      ]
     },
     "metadata": {},
     "output_type": "display_data"
    }
   ],
   "source": [
    "from matplotlib import pyplot as plt\n",
    "plt.hist(resized_image.ravel(),256,[0,256]); plt.show()"
   ]
  },
  {
   "cell_type": "code",
   "execution_count": null,
   "id": "1e6ba99a",
   "metadata": {},
   "outputs": [],
   "source": []
  }
 ],
 "metadata": {
  "kernelspec": {
   "display_name": "Python 3 (ipykernel)",
   "language": "python",
   "name": "python3"
  },
  "language_info": {
   "codemirror_mode": {
    "name": "ipython",
    "version": 3
   },
   "file_extension": ".py",
   "mimetype": "text/x-python",
   "name": "python",
   "nbconvert_exporter": "python",
   "pygments_lexer": "ipython3",
   "version": "3.10.10"
  }
 },
 "nbformat": 4,
 "nbformat_minor": 5
}
